{
 "cells": [
  {
   "attachments": {},
   "cell_type": "markdown",
   "metadata": {},
   "source": [
    "# Study on public transport\n",
    "This notebook uses datas from [opentransportdata](https://opentransportdata.swiss/en/) to get some information about swiss trainstation and line quality.<br><br>\n",
    "![Logo he-arc](./Image/hearclogo.png)\n",
    "\n",
    "#### Authors\n",
    "- David Schnegg\n",
    "- Isaac Metthez\n",
    "\n",
    "© HE-ARC, all rights reserved"
   ]
  },
  {
   "attachments": {},
   "cell_type": "markdown",
   "metadata": {},
   "source": [
    "## Introduction"
   ]
  },
  {
   "attachments": {},
   "cell_type": "markdown",
   "metadata": {},
   "source": [
    "Swiss has one of the best railway system in the world, but sometimes it fails and we were interested to find how many times.\n",
    "We are aware that such things already do exist, but we wanted make ours. \n",
    "CFF/SBB Provied a extended API so we based our statistical analysis on the delay got by subtracting the real time to predicted time.\n",
    "Then we ploted the result to show it in a comprensive and interactive way.\n",
    "Sadly we dicovered that Lausanne isn't the worst city when it comes to trains punctuality."
   ]
  },
  {
   "attachments": {},
   "cell_type": "markdown",
   "metadata": {},
   "source": [
    "![Swiss punctuality by kanton](./swiss_transport_punctuality.svg)"
   ]
  },
  {
   "attachments": {},
   "cell_type": "markdown",
   "metadata": {},
   "source": [
    "## Python's Packages"
   ]
  },
  {
   "attachments": {},
   "cell_type": "markdown",
   "metadata": {},
   "source": [
    "### Install\n",
    "We use differents packages to run our project:\n",
    "\n",
    "You can install them by executing next cell :<br>\n",
    "Note : (you may need to restart the kernel to use updated packages)"
   ]
  },
  {
   "cell_type": "code",
   "execution_count": null,
   "metadata": {
    "vscode": {
     "languageId": "powershell"
    }
   },
   "outputs": [],
   "source": [
    "pip install pandas lxml ipywidgets pygal pygal_maps_ch matplotlib requests "
   ]
  },
  {
   "attachments": {},
   "cell_type": "markdown",
   "metadata": {},
   "source": [
    "### Import \n",
    "Since the packages are installed, we can import them."
   ]
  },
  {
   "cell_type": "code",
   "execution_count": null,
   "metadata": {},
   "outputs": [],
   "source": [
    "import lxml.html\n",
    "import io\n",
    "import pygal\n",
    "import pygal.style\n",
    "import pygal.maps\n",
    "import datetime\n",
    "import pandas as pd\n",
    "import IPython as IPy\n",
    "import ipywidgets as widgets\n",
    "import matplotlib.pyplot as plt\n",
    "import numpy as np\n",
    "import time \n",
    "import timer\n",
    "import requests\n",
    "import os\n",
    "import zipfile"
   ]
  },
  {
   "attachments": {},
   "cell_type": "markdown",
   "metadata": {},
   "source": [
    "## Data acquisition"
   ]
  },
  {
   "attachments": {},
   "cell_type": "markdown",
   "metadata": {},
   "source": [
    "### Swiss public transport\n",
    "As mentionned before we use datas from [opentransportdata](https://opentransportdata.swiss/en/) and more specifically this [page](https://opentransportdata.swiss/fr/dataset/istdaten/) to get swiss public transport datas.<br>\n",
    "After executing the following cell you will be able to select range of datas to download (maximum 50 days, minimum 1 day). <br>\n",
    "Note : (Be carefull one day data size is near to 500MB.)"
   ]
  },
  {
   "cell_type": "code",
   "execution_count": null,
   "metadata": {},
   "outputs": [],
   "source": [
    "# download the page where are the links for daily data\n",
    "req = \"https://opentransportdata.swiss/fr/dataset/istdaten\"\n",
    "page = requests.get(req)\n",
    "webpage = lxml.html.fromstring(page.content)\n",
    "\n",
    "# get links in webpage\n",
    "links = webpage.xpath(\"//a[contains(@href,'https://opentransportdata.swiss/dataset/')]/@href\")\n",
    "options = [datetime.datetime.strptime(f'{i}'[-23:-13],'%Y-%m-%d').date().strftime(\"%d/%m/%Y\") for i in links[::-1]]\n",
    "\n",
    "\n",
    "def predict_data_size(range):\n",
    "    size_indicator.value = ((1+\n",
    "                            options[::-1].index(range[0])-\n",
    "                            options[::-1].index(range[1]))\n",
    "                            *500)\n",
    "\n",
    "def download():\n",
    "    try:\n",
    "        timeStarted = time.perf_counter()\n",
    "        start =  options[::-1].index(time_range_data_slider.get_interact_value()[1])\n",
    "        end = options[::-1].index(time_range_data_slider.get_interact_value()[0])\n",
    "        allContent = bytes()\n",
    "        for link in links[start:end+1]:\n",
    "            print(\"loading :\")\n",
    "            print(link)\n",
    "            data = requests.get(link)\n",
    "            allContent += data.content\n",
    "    except:\n",
    "        pass\n",
    "    finally:\n",
    "        os.makedirs(\"./Datas\",exist_ok = True)\n",
    "        open(\"./Datas/sbb_cff.csv\",\"wb\").write(allContent)  \n",
    "        print(f\"Datas downloaded in {time.perf_counter()-timeStarted:0.2f} seconds \")\n",
    " \n",
    "# to call when interact\n",
    "def on_widget_change(load:bool,range:tuple):\n",
    "    if load == True:\n",
    "        download_button.disabled = True\n",
    "        time_range_data_slider.disabled = True\n",
    "        download_button.value = False\n",
    "        download()\n",
    "        download_button.disabled = False\n",
    "        time_range_data_slider.disabled = False\n",
    "    else:\n",
    "        predict_data_size(range)\n",
    "\n",
    "# widget objects\n",
    "time_range_data_slider = widgets.SelectionRangeSlider(\n",
    "    options=options,\n",
    "    index=(0, len(links)-1),\n",
    "    description=\"Select Date\",\n",
    "    layout= widgets.Layout(width = \"99%\"),\n",
    "    disabled=False\n",
    ")\n",
    "download_button =widgets.ToggleButton(\n",
    "    value=False,\n",
    "    description='Download',\n",
    "    disabled=False,\n",
    "    button_style='',\n",
    "    tooltip='Description',\n",
    "    icon='check'\n",
    ")\n",
    "size_indicator = widgets.FloatText(\n",
    "    value=0,\n",
    "    description='Size[MB]:',\n",
    "    disabled=True,\n",
    "    layout= widgets.Layout(width = \"150px\"),\n",
    ")       \n",
    "\n",
    "# widgets\n",
    "interactions = widgets.interactive_output(on_widget_change,{'load':download_button,'range':time_range_data_slider} )\n",
    "buttonLine =  widgets.HBox([size_indicator,download_button])\n",
    "widgetBox = widgets.VBox([time_range_data_slider,buttonLine])\n",
    "IPy.display.display(widgetBox, interactions)\n"
   ]
  },
  {
   "attachments": {},
   "cell_type": "markdown",
   "metadata": {},
   "source": [
    "### Swiss cities\n",
    "For the last part we need to know in which kanton are the swiss cities located. To do that, we used at the beginning [ch-country-cities](https://simplemaps.com/static/data/country-cities/ch/ch.csv), but there was only 185 cities. That's why we now use [world-cities-simple](https://simplemaps.com/static/data/world-cities/basic/simplemaps_worldcities_basicv1.76.zip).<br>"
   ]
  },
  {
   "cell_type": "code",
   "execution_count": null,
   "metadata": {},
   "outputs": [],
   "source": [
    "req = \"https://simplemaps.com/static/data/world-cities/basic/simplemaps_worldcities_basicv1.76.zip\"\n",
    "zipped = requests.get(req)\n",
    "\n",
    "with zipfile.ZipFile(io.BytesIO(zipped.content), mode= 'r') as zip:\n",
    "    zip.extract('worldcities.csv','./Datas/')"
   ]
  },
  {
   "attachments": {},
   "cell_type": "markdown",
   "metadata": {},
   "source": [
    "## Load datas"
   ]
  },
  {
   "attachments": {},
   "cell_type": "markdown",
   "metadata": {},
   "source": [
    "### Load actual data csv\n",
    "Load actual data, keep only the useful column, calculate  delays , create dictionnary from grouped."
   ]
  },
  {
   "cell_type": "code",
   "execution_count": null,
   "metadata": {},
   "outputs": [],
   "source": [
    "# Load sbb_cff data frame\n",
    "df_actual_data = pd.read_csv(filepath_or_buffer=\"./Datas/sbb_cff.csv\",delimiter=';',low_memory=False)\n",
    "print(f'data frame brut shape is : {df_actual_data.shape}')\n",
    "\n",
    "# keep useful for project\n",
    "df_actual_data = (df_actual_data[[\n",
    "    'HALTESTELLEN_NAME', \n",
    "     'LINIEN_TEXT', \n",
    "     'AB_PROGNOSE',\n",
    "     'AN_PROGNOSE',\n",
    "     'ABFAHRTSZEIT',\n",
    "     'ANKUNFTSZEIT',\n",
    "     'AN_PROGNOSE_STATUS',\n",
    "     'PRODUKT_ID'\n",
    "    ]])\n",
    "print(f'data frame useful shape is : {df_actual_data.shape}')\n",
    "\n",
    "# keep only data for train and with time wich is real\n",
    "df_real_time_for_train = df_actual_data[(df_actual_data[\"PRODUKT_ID\"] == \"Zug\") & (df_actual_data[\"AN_PROGNOSE_STATUS\"] == \"REAL\")].copy()\n",
    "\n",
    "# get time from string\n",
    "df_real_time_for_train[\"AB_PROGNOSE\"] = pd.to_datetime(df_real_time_for_train[\"AB_PROGNOSE\"], format=\"%d.%m.%Y %H:%M:%S\")\n",
    "df_real_time_for_train[\"AN_PROGNOSE\"] = pd.to_datetime(df_real_time_for_train[\"AN_PROGNOSE\"], format=\"%d.%m.%Y %H:%M:%S\")\n",
    "df_real_time_for_train[\"ABFAHRTSZEIT\"] = pd.to_datetime(df_real_time_for_train[\"ABFAHRTSZEIT\"], format=\"%d.%m.%Y %H:%M\")\n",
    "df_real_time_for_train[\"ANKUNFTSZEIT\"] = pd.to_datetime(df_real_time_for_train[\"ANKUNFTSZEIT\"], format=\"%d.%m.%Y %H:%M\")\n",
    "\n",
    "# calculate delay\n",
    "df_real_time_for_train[\"delay_train\"] = (df_real_time_for_train[\"AB_PROGNOSE\"] - df_real_time_for_train[\"ABFAHRTSZEIT\"]).dt.total_seconds()\n",
    "\n",
    "# remove what is know useless\n",
    "df_city_line_delay = df_real_time_for_train[['HALTESTELLEN_NAME', 'LINIEN_TEXT', 'delay_train']]\n",
    "\n",
    "# filter abnormal datas\n",
    "df_city_line_delay = df_city_line_delay.dropna()\n",
    "positive = df_city_line_delay.index[df_city_line_delay['delay_train'] >= 0]\n",
    "df_city_line_delay = df_city_line_delay.loc[positive]\n",
    "\n",
    "# group by city and get a dictionnary\n",
    "grouped_by_trainstation = df_city_line_delay.groupby(['HALTESTELLEN_NAME'])['delay_train']\n",
    "trainstation_delay_dict = grouped_by_trainstation.apply(list).to_dict()\n",
    "\n",
    "# group by line and get a dictionnary\n",
    "grouped_by_line = df_city_line_delay.groupby(['LINIEN_TEXT'])['delay_train']\n",
    "line_delay_dict = grouped_by_line.apply(list).to_dict()"
   ]
  },
  {
   "attachments": {},
   "cell_type": "markdown",
   "metadata": {},
   "source": [
    "### load cities data csv\n",
    "Keep only the Swiss cities and make a dictionnary with the cities as key and the administration name as value.<br>\n",
    "And create a conversion dictionnary."
   ]
  },
  {
   "cell_type": "code",
   "execution_count": null,
   "metadata": {},
   "outputs": [],
   "source": [
    "# Use for cities to administration name\n",
    "swiss_cities_dict = (pd.read_csv(\n",
    "    filepath_or_buffer=\"./Datas/worldcities.csv\",\n",
    "    delimiter=',',low_memory=False)[['country','city', 'admin_name']]\n",
    "    .groupby('country')\n",
    "    .get_group('Switzerland')\n",
    "    .groupby('city')['admin_name']\n",
    "    .apply(list).to_dict())\n",
    "\n",
    "# Use for administration name to abbreviated admin name\n",
    "kt_name_conversion = {\n",
    "    \"Aargau\"                :  \"kt-ag\",\n",
    "    \"Appenzell Innerrhoden\" :  \"kt-ai\",\n",
    "    \"Appenzell Ausserrhoden\":  \"kt-ar\",\n",
    "    \"Basel-Landschaft\"      :  \"kt-bl\",\n",
    "    \"Basel-Stadt\"           :  \"kt-bs\",\n",
    "    \"Bern\"                  :  \"kt-be\",\n",
    "    \"Fribourg\"              :  \"kt-fr\",\n",
    "    \"Genève\"                :  \"kt-ge\",\n",
    "    \"Glarus\"                :  \"kt-gl\",\n",
    "    \"Graubünden\"            :  \"kt-gr\",\n",
    "    \"Jura\"                  :  \"kt-ju\",\n",
    "    \"Luzern\"                :  \"kt-lu\",\n",
    "    \"Neuchâtel\"             :  \"kt-ne\",\n",
    "    \"Nidwalden\"             :  \"kt-nw\",\n",
    "    \"Obwalden\"              :  \"kt-ow\",\n",
    "    \"Sankt Gallen\"          :  \"kt-sg\",\n",
    "    \"Schaffhausen\"          :  \"kt-sh\",\n",
    "    \"Schwyz\"                :  \"kt-sz\",\n",
    "    \"Solothurn\"             :  \"kt-so\",\n",
    "    \"Thurgau\"               :  \"kt-tg\",\n",
    "    \"Ticino\"                :  \"kt-ti\",\n",
    "    \"Uri\"                   :  \"kt-ur\",\n",
    "    \"Valais\"                :  \"kt-vs\",\n",
    "    \"Vaud\"                  :  \"kt-vd\",\n",
    "    \"Zug\"                   :  \"kt-zg\",\n",
    "    \"Zürich\"                :  \"kt-zh\" }"
   ]
  },
  {
   "attachments": {},
   "cell_type": "markdown",
   "metadata": {},
   "source": [
    "## Plot results"
   ]
  },
  {
   "attachments": {},
   "cell_type": "markdown",
   "metadata": {},
   "source": [
    "### Box plot"
   ]
  },
  {
   "attachments": {},
   "cell_type": "markdown",
   "metadata": {},
   "source": [
    "Select a city or a line with a combobox to display the delay with a boxplot up to 10 choices (to see median and quartil).<br>"
   ]
  },
  {
   "cell_type": "code",
   "execution_count": null,
   "metadata": {},
   "outputs": [],
   "source": [
    "plotted = []\n",
    "last_lines_cities_value = 'Cities'\n",
    "\n",
    "def plot(outliers: bool):\n",
    "    values = []\n",
    "    labels = []\n",
    "    delay_dict = trainstation_delay_dict if last_lines_cities_value == 'Cities' else line_delay_dict\n",
    "    for s in plotted:\n",
    "        values.append(delay_dict[s])\n",
    "        labels.append(s if len(s) < 30 else s[0:30])\n",
    "    if len(values) > 0:\n",
    "        plt.figure(figsize=(3*len(plotted),5))\n",
    "        plt.boxplot(x=values,\n",
    "                    labels=labels,\n",
    "                    showfliers=outliers,\n",
    "                    widths=0.8\n",
    "                    )\n",
    "    plt.title('Train delay')\n",
    "    plt.ylabel('Delay in [s]')\n",
    "    plt.show()\n",
    "\n",
    "def on_widget_change(outliers: bool, newcity:str, newline:str, removed_city:tuple, remove_all:bool, lines_cities:str):\n",
    "    global last_lines_cities_value, plotted\n",
    "    plot(outliers)\n",
    "\n",
    "    if last_lines_cities_value != lines_cities:\n",
    "        last_lines_cities_value = lines_cities\n",
    "        if lines_cities == 'Lines':\n",
    "            add_city_to_plotted.disabled = True\n",
    "            add_line_to_plotted.disabled = False\n",
    "        else:\n",
    "            add_city_to_plotted.disabled = False\n",
    "            add_line_to_plotted.disabled = True\n",
    "        plotted.clear()\n",
    "\n",
    "\n",
    "    if 0 < len(plotted):\n",
    "        remove_all_button.disabled = False\n",
    "        lines_or_cities_button.disabled = True\n",
    "    else:\n",
    "        remove_all_button.disabled = True\n",
    "        lines_or_cities_button.disabled = False\n",
    "\n",
    "\n",
    "    if newcity != '' or newline != '':\n",
    "        if len(plotted) > 10:\n",
    "            plotted.pop(0)\n",
    "        if lines_cities == 'Lines':\n",
    "            plotted.append(newline)\n",
    "        else:\n",
    "            plotted.append(newcity)\n",
    "        add_line_to_plotted.value = ''\n",
    "        add_city_to_plotted.value = ''\n",
    "\n",
    "    if removed_city != ():\n",
    "        [plotted.remove(removed)for removed in remove_from_plotted.value]\n",
    "    if remove_all:\n",
    "        plotted.clear()\n",
    "        remove_all_button.value = False\n",
    "\n",
    "\n",
    "    remove_from_plotted.options = plotted\n",
    "\n",
    "# widget objects\n",
    "show_outliers = widgets.Checkbox(\n",
    "    value=False,\n",
    "    description='Outliers',\n",
    "    disabled=False,\n",
    "    indent=False\n",
    ")\n",
    "add_line_to_plotted = widgets.Combobox(\n",
    "    options = list(line_delay_dict.keys()),\n",
    "    placeholder='Select line',\n",
    "    description='Line :',\n",
    "    ensure_option=True,\n",
    "    disabled=True\n",
    ")\n",
    "add_city_to_plotted = widgets.Combobox(\n",
    "    options = list(trainstation_delay_dict.keys()),\n",
    "    placeholder='Select city',\n",
    "    description='City :',\n",
    "    ensure_option=True,\n",
    "    disabled=False\n",
    ")\n",
    "remove_from_plotted = widgets.SelectMultiple(\n",
    "    description='Remove :',\n",
    "    ensure_option=True,\n",
    "    disabled=False\n",
    ")\n",
    "remove_all_button = widgets.ToggleButton(\n",
    "    value=False,\n",
    "    description='Remove all',\n",
    "    disabled=True,\n",
    "    button_style='',\n",
    "    tooltip='Description',\n",
    "    icon='none'\n",
    ")\n",
    "lines_or_cities_button = widgets.RadioButtons(\n",
    "    options=['Cities', 'Lines'],\n",
    "    value=last_lines_cities_value,\n",
    "    description='Plot for :',\n",
    "    disabled=False,\n",
    ")\n",
    "\n",
    "# interact\n",
    "interactions = widgets.interactive_output(\n",
    "    on_widget_change,{'outliers':show_outliers,\n",
    "                      'newcity':add_city_to_plotted,\n",
    "                      'newline':add_line_to_plotted,\n",
    "                      'removed_city':remove_from_plotted,\n",
    "                      'remove_all':remove_all_button,\n",
    "                      'lines_cities':lines_or_cities_button\n",
    "                        } )\n",
    "widgetBox = widgets.VBox([ lines_or_cities_button,\n",
    "                            add_city_to_plotted, \n",
    "                            add_line_to_plotted,\n",
    "                            widgets.HBox([remove_from_plotted,\n",
    "                                         widgets.VBox([remove_all_button,show_outliers])])])\n",
    "IPy.display.display(widgetBox, interactions)"
   ]
  },
  {
   "attachments": {},
   "cell_type": "markdown",
   "metadata": {},
   "source": [
    "### Ranking"
   ]
  },
  {
   "attachments": {},
   "cell_type": "markdown",
   "metadata": {},
   "source": [
    "Rank the best or the worst cities/lines for the selection."
   ]
  },
  {
   "cell_type": "code",
   "execution_count": null,
   "metadata": {},
   "outputs": [],
   "source": [
    "def on_widget_change(ranked: int, acceptable_time:float, best_worse:str, lines_cities:str):\n",
    "    test = df_city_line_delay.copy()\n",
    "    if lines_cities == 'Lines':\n",
    "        not_acceptable_delay = df_city_line_delay.index[df_city_line_delay['delay_train'] > acceptable_time]\n",
    "        grouped_not_acceptable_delay = test.loc[not_acceptable_delay].groupby(['LINIEN_TEXT'])['delay_train']\n",
    "        quality = ((grouped_by_line.size() - grouped_not_acceptable_delay.size()).fillna(grouped_by_line.size())/grouped_by_line.size()).sort_values() * 100\n",
    "    else:\n",
    "        not_acceptable_delay = df_city_line_delay.index[df_city_line_delay['delay_train'] > acceptable_time]\n",
    "        grouped_not_acceptable_delay = test.loc[not_acceptable_delay].groupby(['HALTESTELLEN_NAME'])['delay_train']\n",
    "        quality = ((grouped_by_trainstation.size() - grouped_not_acceptable_delay.size()).fillna(grouped_by_trainstation.size())/grouped_by_trainstation.size()).sort_values() * 100\n",
    "     \n",
    "    if best_worse == 'Best':\n",
    "        dict_to_print = quality[::-1].head(ranked).apply(str).to_dict()\n",
    "    else:\n",
    "        dict_to_print = quality.head(ranked).apply(str).to_dict()\n",
    "    for k,v in dict_to_print.items():\n",
    "        print(f'{k: <30} : {float(v):.3f}')\n",
    "\n",
    "# widget objects\n",
    "number_ranked = widgets.IntSlider(\n",
    "    value=10,\n",
    "    min=1,\n",
    "    max=30,\n",
    "    step=1,\n",
    "    description='Ranks',\n",
    "    layout= widgets.Layout(width = \"99%\"),\n",
    "    disabled=False,\n",
    "    continuous_update=False,\n",
    "    orientation='horizontal',\n",
    "    readout=True,\n",
    "    readout_format='d'\n",
    ")\n",
    "maximum_acceptable_time = widgets.FloatSlider(\n",
    "    value=300.0,\n",
    "    min=30,\n",
    "    max=1800,\n",
    "    step=0.1,\n",
    "    description='Threshold[s]',\n",
    "    layout= widgets.Layout(width = \"99%\"),\n",
    "    disabled=False,\n",
    "    continuous_update=False,\n",
    "    orientation='horizontal',\n",
    "    readout=True,\n",
    "    readout_format='.1f',\n",
    ")\n",
    "\n",
    "lines_or_cities_button = widgets.RadioButtons(\n",
    "    options=['Cities', 'Lines'],\n",
    "    value=last_lines_cities_value,\n",
    "    description='Rank for :',\n",
    "    disabled=False,\n",
    ")\n",
    "\n",
    "show_best_button = widgets.RadioButtons(\n",
    "    options=['Best', 'Worse'],\n",
    "    value='Best',\n",
    "    description='Rank for :',\n",
    "    disabled=False,\n",
    ")\n",
    "\n",
    "\n",
    "# interact\n",
    "interactions = widgets.interactive_output(\n",
    "    on_widget_change,{'ranked':number_ranked,\n",
    "                      'acceptable_time':maximum_acceptable_time,\n",
    "                      'best_worse':show_best_button,\n",
    "                      'lines_cities':lines_or_cities_button\n",
    "                     } )\n",
    "buttonLine =  widgets.HBox([lines_or_cities_button, show_best_button ])\n",
    "widgetBox = widgets.VBox([ number_ranked, maximum_acceptable_time, buttonLine])\n",
    "IPy.display.display(widgetBox, interactions)"
   ]
  },
  {
   "attachments": {},
   "cell_type": "markdown",
   "metadata": {},
   "source": [
    "### Evaluate a trainstation"
   ]
  },
  {
   "attachments": {},
   "cell_type": "markdown",
   "metadata": {},
   "source": [
    "Choose a train station to know its ranking and punctuality."
   ]
  },
  {
   "cell_type": "code",
   "execution_count": null,
   "metadata": {},
   "outputs": [],
   "source": [
    "def on_widget_change( acceptable_time:float, rated:str):\n",
    "    test = df_city_line_delay.copy()\n",
    "    if rated == '':\n",
    "        # abort useless calculation\n",
    "        pass \n",
    "    elif rated in line_delay_dict:\n",
    "        \n",
    "        not_acceptable_delay = df_city_line_delay.index[df_city_line_delay['delay_train'] > acceptable_time]\n",
    "        grouped_not_acceptable_delay = test.loc[not_acceptable_delay].groupby(['LINIEN_TEXT'])['delay_train']\n",
    "        quality = ((grouped_by_line.size() - grouped_not_acceptable_delay.size()).fillna(grouped_by_line.size())/grouped_by_line.size()).sort_values() * 100\n",
    "\n",
    "        print(rated)\n",
    "        # accuracy is\n",
    "        print (quality[rated])\n",
    "        \n",
    "        print (int(quality.rank(method='dense',ascending=False)[rated]))\n",
    "        print (int(quality.rank(method='dense',ascending=False).max()))\n",
    "        spot_selection.value = ''\n",
    "\n",
    "    elif rated in trainstation_delay_dict:\n",
    "        not_acceptable_delay = df_city_line_delay.index[df_city_line_delay['delay_train'] > acceptable_time]\n",
    "        grouped_not_acceptable_delay = test.loc[not_acceptable_delay].groupby(['HALTESTELLEN_NAME'])['delay_train']\n",
    "        quality = ((grouped_by_trainstation.size() - grouped_not_acceptable_delay.size()).fillna(grouped_by_trainstation.size())/grouped_by_trainstation.size()).sort_values() * 100\n",
    "        rank = int(quality.rank(method='dense',ascending=False)[rated])\n",
    "        nb_rank = int(quality.rank(method='dense',ascending=False).max())\n",
    "        print(f'{rated} is the {rank} out of {nb_rank} with {quality[rated] :.1f} of trains who have less than {acceptable_time:.0f} [s] of delay.')\n",
    "        # accuracy is\n",
    "        \n",
    "        print ()\n",
    "        print ()\n",
    "        spot_selection.value = ''\n",
    "    else:\n",
    "        pass\n",
    "\n",
    "\n",
    "# widget objects\n",
    "maximum_acceptable_time = widgets.FloatSlider(\n",
    "    value=300.0,\n",
    "    min=30,\n",
    "    max=1800,\n",
    "    step=0.1,\n",
    "    description='Threshold[s]',\n",
    "    disabled=False,\n",
    "    continuous_update=False,\n",
    "    orientation='horizontal',\n",
    "    readout=True,\n",
    "    readout_format='.1f',\n",
    ")\n",
    "spot_selection = widgets.Combobox(\n",
    "    options = list(trainstation_delay_dict.keys()) + list(line_delay_dict.keys()),\n",
    "    placeholder='Selection',\n",
    "    description='Line or trainstation:',\n",
    "    ensure_option=True,\n",
    "    disabled=False\n",
    ")\n",
    "\n",
    "# interact\n",
    "interactions = widgets.interactive_output(\n",
    "    on_widget_change,{'acceptable_time':maximum_acceptable_time,\n",
    "                      'rated':spot_selection\n",
    "                     } )\n",
    "widgetBox = widgets.VBox([spot_selection,maximum_acceptable_time])\n",
    "IPy.display.display(widgetBox, interactions)"
   ]
  },
  {
   "attachments": {},
   "cell_type": "markdown",
   "metadata": {},
   "source": [
    "### Map"
   ]
  },
  {
   "attachments": {},
   "cell_type": "markdown",
   "metadata": {},
   "source": [
    "Plot the best and the worst kanton."
   ]
  },
  {
   "cell_type": "code",
   "execution_count": null,
   "metadata": {},
   "outputs": [],
   "source": [
    "# try to reliate trainstation to city and make a dataframe with\n",
    "list_kanton_delay = {'kanton' : [], 'delay':[]}\n",
    "for k,v in trainstation_delay_dict.items():\n",
    "    try:\n",
    "        # this scope can be improved\n",
    "        res = swiss_cities_dict.get(k) or swiss_cities_dict[k.split()[0]] \n",
    "        for d in v:\n",
    "            list_kanton_delay['kanton'].append(res[0])\n",
    "            list_kanton_delay['delay'].append(d)\n",
    "    except:\n",
    "        pass\n",
    "df_kanton_delay = pd.DataFrame(list_kanton_delay)\n",
    "gp_kanton_delay = df_kanton_delay.groupby(['kanton'])['delay']\n",
    "\n",
    "#styple for pygal        \n",
    "custom_style = pygal.style.Style(\n",
    "    background='transparent',\n",
    "    plot_background='transparent',\n",
    "    foreground='#999999',\n",
    "    foreground_strong='#999999',\n",
    "    foreground_subtle='#999999',\n",
    "    opacity='.6',\n",
    "    opacity_hover='.9',\n",
    "    transition='400ms ease-in',\n",
    "    colors=('#00AA00', '#AA0000', '#999999', '#AAAAAA', '#888888'))\n",
    "\n",
    "def calculate_swiss_svg( acceptable_time_input:float, good_from_input:float, save_input:bool):\n",
    "    test = df_kanton_delay.copy()\n",
    "    not_acceptable_kanton_delay = df_kanton_delay.index[df_kanton_delay['delay'] > acceptable_time_input]\n",
    "    grouped_kt_not_acceptable_delay = test.loc[not_acceptable_kanton_delay].groupby(['kanton'])['delay']\n",
    "    quality = ((gp_kanton_delay.size() - grouped_kt_not_acceptable_delay.size()).fillna(gp_kanton_delay.size())/gp_kanton_delay.size()).sort_values() * 100\n",
    "\n",
    "    kt_good = {}\n",
    "    kt_bad = {}\n",
    "    for k,v in quality.apply(float).to_dict().items():\n",
    "        if v > good_from_input:\n",
    "            kt_good[kt_name_conversion[k]] = v\n",
    "        else:\n",
    "            kt_bad[kt_name_conversion[k]] = 100-v\n",
    "\n",
    "\n",
    "    ch_chart = pygal.maps.ch.Cantons(style = custom_style)\n",
    "    ch_chart.title = 'Transport punctuality'\n",
    "    ch_chart.add('Good (punctual)', kt_good)\n",
    "    ch_chart.add('Bad (late)', kt_bad)\n",
    "\n",
    "    swiss = ch_chart.render()\n",
    "\n",
    "    IPy.display.display(IPy.display.SVG(swiss))\n",
    "    \n",
    "    if save_input:\n",
    "        save_render.value = False\n",
    "        open(\"./swiss_transport_punctuality.svg\",\"wb\").write(swiss)  \n",
    "\n",
    "# widget objects\n",
    "maximum_acceptable_time = widgets.FloatSlider(\n",
    "    value=120.0,\n",
    "    min=30,\n",
    "    max=600,\n",
    "    step=0.1,\n",
    "    description='Acceptable delay [s] :',\n",
    "    disabled=False,\n",
    "    continuous_update=False,\n",
    "    orientation='horizontal',\n",
    "    readout=True,\n",
    "    readout_format='.1f'\n",
    ")\n",
    "good_from = widgets.FloatSlider(\n",
    "    value=80,\n",
    "    min=0,\n",
    "    max=100,\n",
    "    step=1,\n",
    "    description='good from [percent] :',\n",
    "    disabled=False,\n",
    "    continuous_update=False,\n",
    "    orientation='horizontal',\n",
    "    readout=True,\n",
    "    readout_format='.0f'\n",
    ")\n",
    "save_render = widgets.ToggleButton(\n",
    "    value=False,\n",
    "    description='Save render as svg',\n",
    "    disabled=False,\n",
    "    button_style='',\n",
    "    tooltip='Description',\n",
    "    icon='none'\n",
    ")\n",
    "\n",
    "# interact\n",
    "interactions = widgets.interactive_output(\n",
    "    calculate_swiss_svg,{'acceptable_time_input':maximum_acceptable_time,\n",
    "                      'good_from_input':good_from,\n",
    "                      'save_input':save_render\n",
    "                     } )\n",
    "widgetBox = widgets.VBox([maximum_acceptable_time, good_from, save_render])\n",
    "IPy.display.display(widgetBox, interactions)"
   ]
  },
  {
   "attachments": {},
   "cell_type": "markdown",
   "metadata": {},
   "source": [
    "## Conclusion"
   ]
  },
  {
   "attachments": {},
   "cell_type": "markdown",
   "metadata": {},
   "source": [
    "### Problems encountered"
   ]
  },
  {
   "attachments": {},
   "cell_type": "markdown",
   "metadata": {},
   "source": [
    "#### Acquisition of datas\n",
    "At the beginnning of the project we tried to directly fetch datas with [SBB API platfrom](https://developer.sbb.ch/home) using THe [Service Points](https://developer.sbb.ch/apis/servicepoints/information). We struggled a lot with this API because of the OAuth2 authentification. Finally we found everything we wanted in this [page](https://opentransportdata.swiss/fr/dataset/istdaten/) on [opentransportdata](https://opentransportdata.swiss/en/)."
   ]
  },
  {
   "attachments": {},
   "cell_type": "markdown",
   "metadata": {},
   "source": [
    "#### Relate a train station to its administration\n",
    "It took us a lot of time to get in wich administration are the train stations, and it was crucial to show it on Swiss map."
   ]
  },
  {
   "attachments": {},
   "cell_type": "markdown",
   "metadata": {},
   "source": [
    "### Limitations"
   ]
  },
  {
   "attachments": {},
   "cell_type": "markdown",
   "metadata": {},
   "source": [
    "#### Quantity of datas\n",
    "- Although we can download datas for 50 days, it would be better to have datas for more than 1 year. It would increase accuracy.\n",
    "Also datas are 'complete', what's cool, but that means they are large too. Indeed the size for 50 days is near to 25GB, which can take more than 100GB of RAM at the moment we load the csv."
   ]
  },
  {
   "attachments": {},
   "cell_type": "markdown",
   "metadata": {},
   "source": [
    "### Ameliorations"
   ]
  },
  {
   "attachments": {},
   "cell_type": "markdown",
   "metadata": {},
   "source": [
    "#### Use more datas\n",
    "- In our dataset we have discarded all datas that weren't from train, but we could also use all of them to compare them between different public transports.\n",
    "- In our datas, we have the company of the train, and in the future, we will be able to make a comparison between all companies."
   ]
  },
  {
   "attachments": {},
   "cell_type": "markdown",
   "metadata": {},
   "source": [
    "#### Improve usage of datas\n",
    "- To show punctuality by kanton on the swiss map, we had to know in which administration is the train station. Therefore we used the name of the train station and tried to find the city's name with it. With this method we were only able to correlate for 20% of train station's name to an administration."
   ]
  },
  {
   "attachments": {},
   "cell_type": "markdown",
   "metadata": {},
   "source": [
    "### Personal appreciation"
   ]
  },
  {
   "attachments": {},
   "cell_type": "markdown",
   "metadata": {},
   "source": [
    "We appreciated to do this project. We learn a lot about datas analysis in Python.<br>\n",
    "Thanks to ours teacher and assistant for help and best regards."
   ]
  }
 ],
 "metadata": {
  "kernelspec": {
   "display_name": "Python 3",
   "language": "python",
   "name": "python3"
  },
  "language_info": {
   "codemirror_mode": {
    "name": "ipython",
    "version": 3
   },
   "file_extension": ".py",
   "mimetype": "text/x-python",
   "name": "python",
   "nbconvert_exporter": "python",
   "pygments_lexer": "ipython3",
   "version": "3.9.16"
  },
  "vscode": {
   "interpreter": {
    "hash": "2a8dfe095fce2b5e88c64a2c3ee084c8e0e0d70b23e7b95b1cfb538be294c5c8"
   }
  }
 },
 "nbformat": 4,
 "nbformat_minor": 4
}
